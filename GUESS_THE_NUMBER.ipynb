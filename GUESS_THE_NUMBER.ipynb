{
  "nbformat": 4,
  "nbformat_minor": 0,
  "metadata": {
    "colab": {
      "provenance": [],
      "authorship_tag": "ABX9TyOlDQVFo9kXAOkXIi4r+8XI",
      "include_colab_link": true
    },
    "kernelspec": {
      "name": "python3",
      "display_name": "Python 3"
    },
    "language_info": {
      "name": "python"
    }
  },
  "cells": [
    {
      "cell_type": "markdown",
      "metadata": {
        "id": "view-in-github",
        "colab_type": "text"
      },
      "source": [
        "<a href=\"https://colab.research.google.com/github/Dharshini-22112004/GUESS-THE-NUMBER-USING-PYTHON/blob/main/GUESS_THE_NUMBER.ipynb\" target=\"_parent\"><img src=\"https://colab.research.google.com/assets/colab-badge.svg\" alt=\"Open In Colab\"/></a>"
      ]
    },
    {
      "cell_type": "markdown",
      "source": [
        "GUESS THE NUMBER"
      ],
      "metadata": {
        "id": "F_lg3E4wEz5m"
      }
    },
    {
      "cell_type": "code",
      "execution_count": null,
      "metadata": {
        "colab": {
          "base_uri": "https://localhost:8080/"
        },
        "id": "pnc6uoINDGPF",
        "outputId": "eec1b693-d627-4609-8050-b1427150cd0d"
      },
      "outputs": [
        {
          "output_type": "stream",
          "name": "stdout",
          "text": [
            "Welcome to the Guess the Number game!\n",
            "Guess a number between 1 and 100.\n",
            "Enter your guess: 3\n",
            "Too low!\n",
            "Enter your guess: 22\n",
            "Too high!\n",
            "Enter your guess: 15\n",
            "Too low!\n",
            "Enter your guess: 20\n",
            "Too low!\n",
            "Enter your guess: 21\n",
            "Congratulations! You guessed the number in 5 attempts.\n"
          ]
        }
      ],
      "source": [
        "import random\n",
        "\n",
        "def guess_the_number():\n",
        "    number = random.randint(1, 100)\n",
        "    attempts = 0\n",
        "    print(\"Welcome to the Guess the Number game!\")\n",
        "    print(\"Guess a number between 1 and 100.\")\n",
        "\n",
        "    while True:\n",
        "        guess = int(input(\"Enter your guess: \"))\n",
        "        attempts += 1\n",
        "\n",
        "        if guess < number:\n",
        "            print(\"Too low!\")\n",
        "        elif guess > number:\n",
        "            print(\"Too high!\")\n",
        "        else:\n",
        "            print(f\"Congratulations! You guessed the number in {attempts} attempts.\")\n",
        "            break\n",
        "\n",
        "guess_the_number()\n"
      ]
    }
  ]
}